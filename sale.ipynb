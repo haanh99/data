{
 "cells": [
  {
   "cell_type": "code",
   "execution_count": 1,
   "metadata": {},
   "outputs": [],
   "source": [
    "import pandas as pd\n",
    "import os\n",
    "import matplotlib.pyplot as mpl\n"
   ]
  },
  {
   "cell_type": "code",
   "execution_count": 3,
   "metadata": {},
   "outputs": [
    {
     "name": "stdout",
     "output_type": "stream",
     "text": [
      "Dataframe 1:\n",
      "       Date  Product ID          Product Name  Units Sold  Total Revenue (USD)\n",
      "0  2/1/2024        1027    Canon PIXMA TR4520           8               799.92\n",
      "1  2/1/2024        1016  Apple Watch Series 6           3              1197.00\n",
      "2  2/1/2024        1030            JBL Flip 5          12              1439.40\n",
      "3  2/1/2024        1008            LG C1 OLED           2              3598.00\n",
      "4  2/1/2024        1039         Asus RT-AX88U          10              2490.00\n",
      "-------------------\n",
      "Dataframe 2:\n",
      "       Date  Product ID          Product Name  Units Sold Total Revenue (USD)\n",
      "0  1/1/2024        1027    Canon PIXMA TR4520           8            $799.92 \n",
      "1  1/1/2024        1016  Apple Watch Series 6           3          $1,197.00 \n",
      "2  1/2/2024        1030            JBL Flip 5          12          $1,439.40 \n",
      "3  1/2/2024        1008            LG C1 OLED           2          $3,598.00 \n",
      "4  1/2/2024        1039         Asus RT-AX88U          10          $2,490.00 \n",
      "-------------------\n",
      "Dataframe 3:\n",
      "       Date  Product ID          Product Name  Units Sold  Total Revenue (USD)\n",
      "0  3/1/2024        1027    Canon PIXMA TR4520           8               799.92\n",
      "1  3/1/2024        1016  Apple Watch Series 6           3              1197.00\n",
      "2  3/1/2024        1030            JBL Flip 5          12              1439.40\n",
      "3  3/2/2024        1008            LG C1 OLED           2              3598.00\n",
      "4  3/2/2024        1039         Asus RT-AX88U          10              2490.00\n",
      "-------------------\n"
     ]
    }
   ],
   "source": [
    "path = r\"C:\\Users\\DELL\\Desktop\\FPT\\Business Process Support\\data\"\n",
    "filepaths = []\n",
    "\n",
    "# Collect file paths\n",
    "for file in os.listdir(path):\n",
    "    filepath = os.path.join(path, file)\n",
    "    if file.endswith(\".csv\"):\n",
    "        filepaths.append(filepath)\n",
    "\n",
    "# Read CSV files\n",
    "dataframes = []  # List to store the dataframes\n",
    "for filepath in filepaths:\n",
    "    df = pd.read_csv(filepath)\n",
    "    dataframes.append(df)\n",
    "\n",
    "# Process the dataframes\n",
    "for i, df in enumerate(dataframes):\n",
    "    print(f\"Dataframe {i+1}:\")\n",
    "    print(df.head())\n",
    "    print(\"-------------------\")"
   ]
  },
  {
   "cell_type": "code",
   "execution_count": 4,
   "metadata": {},
   "outputs": [
    {
     "name": "stdout",
     "output_type": "stream",
     "text": [
      "          Date  Product ID                 Product Name  Units Sold  \\\n",
      "0     2/1/2024        1027           Canon PIXMA TR4520           8   \n",
      "1     2/1/2024        1016         Apple Watch Series 6           3   \n",
      "2     2/1/2024        1030                   JBL Flip 5          12   \n",
      "3     2/1/2024        1008                   LG C1 OLED           2   \n",
      "4     2/1/2024        1039                Asus RT-AX88U          10   \n",
      "..         ...         ...                          ...         ...   \n",
      "118  3/28/2024        1020                 Canon EOS R5           3   \n",
      "119  3/28/2024        1019            Sony Alpha a7 III           2   \n",
      "120  3/29/2024        1038       Netgear Nighthawk AX12           1   \n",
      "121  3/30/2024        1040  Western Digital My Passport           4   \n",
      "122  3/31/2024        1010              Sony WH-1000XM4           2   \n",
      "\n",
      "    Total Revenue (USD)  \n",
      "0                799.92  \n",
      "1                1197.0  \n",
      "2                1439.4  \n",
      "3                3598.0  \n",
      "4                2490.0  \n",
      "..                  ...  \n",
      "118             10497.0  \n",
      "119              3998.0  \n",
      "120              299.99  \n",
      "121              319.96  \n",
      "122              699.98  \n",
      "\n",
      "[474 rows x 5 columns]\n"
     ]
    }
   ],
   "source": [
    "# Merge the dataframes\n",
    "merged_df = pd.concat(dataframes)\n",
    "\n",
    "# Display the merged dataframe\n",
    "print(merged_df)\n",
    "length = len(merged_df)\n",
    "\n",
    "merged_df.to_csv('mergeData.csv',index=False)"
   ]
  },
  {
   "cell_type": "code",
   "execution_count": 14,
   "metadata": {},
   "outputs": [
    {
     "name": "stdout",
     "output_type": "stream",
     "text": [
      "          Date  Product ID                 Product Name  Units Sold  \\\n",
      "0     2/1/2024        1027           Canon PIXMA TR4520           8   \n",
      "1     2/1/2024        1016         Apple Watch Series 6           3   \n",
      "2     2/1/2024        1030                   JBL Flip 5          12   \n",
      "3     2/1/2024        1008                   LG C1 OLED           2   \n",
      "4     2/1/2024        1039                Asus RT-AX88U          10   \n",
      "..         ...         ...                          ...         ...   \n",
      "469  3/28/2024        1020                 Canon EOS R5           3   \n",
      "470  3/28/2024        1019            Sony Alpha a7 III           2   \n",
      "471  3/29/2024        1038       Netgear Nighthawk AX12           1   \n",
      "472  3/30/2024        1040  Western Digital My Passport           4   \n",
      "473  3/31/2024        1010              Sony WH-1000XM4           2   \n",
      "\n",
      "     Total Revenue (USD)  \n",
      "0                 799.92  \n",
      "1                1197.00  \n",
      "2                1439.40  \n",
      "3                3598.00  \n",
      "4                2490.00  \n",
      "..                   ...  \n",
      "469             10497.00  \n",
      "470              3998.00  \n",
      "471               299.99  \n",
      "472               319.96  \n",
      "473               699.98  \n",
      "\n",
      "[474 rows x 5 columns]\n"
     ]
    }
   ],
   "source": [
    "# Read the CSV file into the dataframe\n",
    "dataframe = pd.read_csv('mergeData.csv')\n",
    "\n",
    "# Remove the dollar sign ('$') and commas (',') from the 'Total Revenue' column\n",
    "dataframe['Total Revenue (USD)'] = dataframe['Total Revenue (USD)'].str.replace('$', '').str.replace(',', '')\n",
    "\n",
    "# Convert the 'Total Revenue' column to numeric format\n",
    "dataframe['Total Revenue (USD)'] = pd.to_numeric(dataframe['Total Revenue (USD)'])\n",
    "\n",
    "# Print the updated dataframe\n",
    "print(dataframe)"
   ]
  },
  {
   "cell_type": "code",
   "execution_count": 15,
   "metadata": {},
   "outputs": [
    {
     "data": {
      "text/html": [
       "<div>\n",
       "<style scoped>\n",
       "    .dataframe tbody tr th:only-of-type {\n",
       "        vertical-align: middle;\n",
       "    }\n",
       "\n",
       "    .dataframe tbody tr th {\n",
       "        vertical-align: top;\n",
       "    }\n",
       "\n",
       "    .dataframe thead th {\n",
       "        text-align: right;\n",
       "    }\n",
       "</style>\n",
       "<table border=\"1\" class=\"dataframe\">\n",
       "  <thead>\n",
       "    <tr style=\"text-align: right;\">\n",
       "      <th></th>\n",
       "      <th>Date</th>\n",
       "      <th>Product ID</th>\n",
       "      <th>Product Name</th>\n",
       "      <th>Units Sold</th>\n",
       "      <th>Total Revenue (USD)</th>\n",
       "      <th>Month</th>\n",
       "    </tr>\n",
       "  </thead>\n",
       "  <tbody>\n",
       "    <tr>\n",
       "      <th>0</th>\n",
       "      <td>2/1/2024</td>\n",
       "      <td>1027</td>\n",
       "      <td>Canon PIXMA TR4520</td>\n",
       "      <td>8</td>\n",
       "      <td>799.92</td>\n",
       "      <td></td>\n",
       "    </tr>\n",
       "    <tr>\n",
       "      <th>1</th>\n",
       "      <td>2/1/2024</td>\n",
       "      <td>1016</td>\n",
       "      <td>Apple Watch Series 6</td>\n",
       "      <td>3</td>\n",
       "      <td>1197.0</td>\n",
       "      <td></td>\n",
       "    </tr>\n",
       "    <tr>\n",
       "      <th>2</th>\n",
       "      <td>2/1/2024</td>\n",
       "      <td>1030</td>\n",
       "      <td>JBL Flip 5</td>\n",
       "      <td>12</td>\n",
       "      <td>1439.4</td>\n",
       "      <td></td>\n",
       "    </tr>\n",
       "    <tr>\n",
       "      <th>3</th>\n",
       "      <td>2/1/2024</td>\n",
       "      <td>1008</td>\n",
       "      <td>LG C1 OLED</td>\n",
       "      <td>2</td>\n",
       "      <td>3598.0</td>\n",
       "      <td></td>\n",
       "    </tr>\n",
       "    <tr>\n",
       "      <th>4</th>\n",
       "      <td>2/1/2024</td>\n",
       "      <td>1039</td>\n",
       "      <td>Asus RT-AX88U</td>\n",
       "      <td>10</td>\n",
       "      <td>2490.0</td>\n",
       "      <td></td>\n",
       "    </tr>\n",
       "    <tr>\n",
       "      <th>...</th>\n",
       "      <td>...</td>\n",
       "      <td>...</td>\n",
       "      <td>...</td>\n",
       "      <td>...</td>\n",
       "      <td>...</td>\n",
       "      <td>...</td>\n",
       "    </tr>\n",
       "    <tr>\n",
       "      <th>118</th>\n",
       "      <td>3/28/2024</td>\n",
       "      <td>1020</td>\n",
       "      <td>Canon EOS R5</td>\n",
       "      <td>3</td>\n",
       "      <td>10497.0</td>\n",
       "      <td></td>\n",
       "    </tr>\n",
       "    <tr>\n",
       "      <th>119</th>\n",
       "      <td>3/28/2024</td>\n",
       "      <td>1019</td>\n",
       "      <td>Sony Alpha a7 III</td>\n",
       "      <td>2</td>\n",
       "      <td>3998.0</td>\n",
       "      <td></td>\n",
       "    </tr>\n",
       "    <tr>\n",
       "      <th>120</th>\n",
       "      <td>3/29/2024</td>\n",
       "      <td>1038</td>\n",
       "      <td>Netgear Nighthawk AX12</td>\n",
       "      <td>1</td>\n",
       "      <td>299.99</td>\n",
       "      <td></td>\n",
       "    </tr>\n",
       "    <tr>\n",
       "      <th>121</th>\n",
       "      <td>3/30/2024</td>\n",
       "      <td>1040</td>\n",
       "      <td>Western Digital My Passport</td>\n",
       "      <td>4</td>\n",
       "      <td>319.96</td>\n",
       "      <td></td>\n",
       "    </tr>\n",
       "    <tr>\n",
       "      <th>122</th>\n",
       "      <td>3/31/2024</td>\n",
       "      <td>1010</td>\n",
       "      <td>Sony WH-1000XM4</td>\n",
       "      <td>2</td>\n",
       "      <td>699.98</td>\n",
       "      <td></td>\n",
       "    </tr>\n",
       "  </tbody>\n",
       "</table>\n",
       "<p>474 rows × 6 columns</p>\n",
       "</div>"
      ],
      "text/plain": [
       "          Date  Product ID                 Product Name  Units Sold  \\\n",
       "0     2/1/2024        1027           Canon PIXMA TR4520           8   \n",
       "1     2/1/2024        1016         Apple Watch Series 6           3   \n",
       "2     2/1/2024        1030                   JBL Flip 5          12   \n",
       "3     2/1/2024        1008                   LG C1 OLED           2   \n",
       "4     2/1/2024        1039                Asus RT-AX88U          10   \n",
       "..         ...         ...                          ...         ...   \n",
       "118  3/28/2024        1020                 Canon EOS R5           3   \n",
       "119  3/28/2024        1019            Sony Alpha a7 III           2   \n",
       "120  3/29/2024        1038       Netgear Nighthawk AX12           1   \n",
       "121  3/30/2024        1040  Western Digital My Passport           4   \n",
       "122  3/31/2024        1010              Sony WH-1000XM4           2   \n",
       "\n",
       "    Total Revenue (USD) Month  \n",
       "0                799.92        \n",
       "1                1197.0        \n",
       "2                1439.4        \n",
       "3                3598.0        \n",
       "4                2490.0        \n",
       "..                  ...   ...  \n",
       "118             10497.0        \n",
       "119              3998.0        \n",
       "120              299.99        \n",
       "121              319.96        \n",
       "122              699.98        \n",
       "\n",
       "[474 rows x 6 columns]"
      ]
     },
     "execution_count": 15,
     "metadata": {},
     "output_type": "execute_result"
    }
   ],
   "source": [
    "merged_df['Month']=''\n",
    "merged_df"
   ]
  },
  {
   "cell_type": "code",
   "execution_count": 17,
   "metadata": {},
   "outputs": [
    {
     "name": "stdout",
     "output_type": "stream",
     "text": [
      "          Date  Product ID                 Product Name  Units Sold  \\\n",
      "0   2024-02-01        1027           Canon PIXMA TR4520           8   \n",
      "1   2024-02-01        1016         Apple Watch Series 6           3   \n",
      "2   2024-02-01        1030                   JBL Flip 5          12   \n",
      "3   2024-02-01        1008                   LG C1 OLED           2   \n",
      "4   2024-02-01        1039                Asus RT-AX88U          10   \n",
      "..         ...         ...                          ...         ...   \n",
      "469 2024-03-28        1020                 Canon EOS R5           3   \n",
      "470 2024-03-28        1019            Sony Alpha a7 III           2   \n",
      "471 2024-03-29        1038       Netgear Nighthawk AX12           1   \n",
      "472 2024-03-30        1040  Western Digital My Passport           4   \n",
      "473 2024-03-31        1010              Sony WH-1000XM4           2   \n",
      "\n",
      "     Total Revenue (USD)  Month  \n",
      "0                 799.92      2  \n",
      "1                1197.00      2  \n",
      "2                1439.40      2  \n",
      "3                3598.00      2  \n",
      "4                2490.00      2  \n",
      "..                   ...    ...  \n",
      "469             10497.00      3  \n",
      "470              3998.00      3  \n",
      "471               299.99      3  \n",
      "472               319.96      3  \n",
      "473               699.98      3  \n",
      "\n",
      "[474 rows x 6 columns]\n"
     ]
    }
   ],
   "source": [
    "\n",
    "\n",
    "# Convert the 'Date' column to pandas datetime with the correct format\n",
    "dataframe['Date'] = pd.to_datetime(dataframe['Date'], format='%m/%d/%Y')\n",
    "\n",
    "# Extract the month from the 'Date' column\n",
    "dataframe['Month'] = dataframe['Date'].dt.month\n",
    "\n",
    "# Print the updated dataframe with only the 'Month' column\n",
    "print(dataframe)"
   ]
  },
  {
   "cell_type": "code",
   "execution_count": 18,
   "metadata": {},
   "outputs": [
    {
     "name": "stdout",
     "output_type": "stream",
     "text": [
      "Month\n",
      "1    333990.13\n",
      "2    418839.95\n",
      "3    307357.83\n",
      "Name: Total Revenue (USD), dtype: float64\n",
      "418839.95\n"
     ]
    }
   ],
   "source": [
    "revenue_by_month = dataframe.groupby('Month')['Total Revenue (USD)'].sum()\n",
    "\n",
    "# Print the total revenue by month\n",
    "print(revenue_by_month)\n",
    "print(revenue_by_month.max())"
   ]
  },
  {
   "cell_type": "code",
   "execution_count": 21,
   "metadata": {},
   "outputs": [
    {
     "data": {
      "image/png": "[encoded data removed]",
      "text/plain": [
       "<Figure size 640x480 with 1 Axes>"
      ]
     },
     "metadata": {},
     "output_type": "display_data"
    }
   ],
   "source": [
    "# Plotting the line chart\n",
    "mpl.bar(revenue_by_month.index, revenue_by_month.values)\n",
    "mpl.xlabel('Month')\n",
    "mpl.ylabel('Total Revenue (USD)')\n",
    "mpl.title('Total Revenue by Month')\n",
    "\n",
    "# Display the line chart\n",
    "mpl.show()"
   ]
  },
  {
   "cell_type": "code",
   "execution_count": 99,
   "metadata": {},
   "outputs": [
    {
     "name": "stdout",
     "output_type": "stream",
     "text": [
      "Number of sales for each product in the top 5:\n",
      "HP OfficeJet Pro 9015: 92\n",
      "Apple iPhone 12: 82\n",
      "Apple AirPods Pro: 79\n",
      "Asus RT-AX88U: 54\n",
      "Canon EOS R5: 50\n"
     ]
    }
   ],
   "source": [
    "\n",
    "\n",
    "# Group the dataframe by 'Product Name' and calculate the sum of 'Units Sold' for each product\n",
    "product_sales = dataframe.groupby('Product Name')['Units Sold'].sum()\n",
    "\n",
    "# Find the top 5 products with the highest sales\n",
    "top_5_products = product_sales.nlargest(5)\n",
    "\n",
    "# Print the number of sales for each product in the top 5\n",
    "print(\"Number of sales for each product in the top 5:\")\n",
    "for product in top_5_products.index:\n",
    "    sales = top_5_products[product]\n",
    "    print(f\"{product}: {sales}\")"
   ]
  },
  {
   "cell_type": "code",
   "execution_count": 105,
   "metadata": {},
   "outputs": [
    {
     "data": {
      "image/png": "[encoded data removed]",
      "text/plain": [
       "<Figure size 640x480 with 1 Axes>"
      ]
     },
     "metadata": {},
     "output_type": "display_data"
    }
   ],
   "source": [
    "# Plotting the bar chart\n",
    "mpl.bar(top_5_products.index, top_5_products.values)\n",
    "mpl.xlabel('Product')\n",
    "mpl.ylabel('Number of Sales')\n",
    "mpl.title('Top 5 Products with the Highest Sales')\n",
    "\n",
    "# Rotate the x-axis labels for better readability if needed\n",
    "mpl.xticks(rotation=45)\n",
    "\n",
    "# Display the bar chart\n",
    "mpl.show()"
   ]
  }
 ],
 "metadata": {
  "kernelspec": {
   "display_name": "Python 3",
   "language": "python",
   "name": "python3"
  },
  "language_info": {
   "codemirror_mode": {
    "name": "ipython",
    "version": 3
   },
   "file_extension": ".py",
   "mimetype": "text/x-python",
   "name": "python",
   "nbconvert_exporter": "python",
   "pygments_lexer": "ipython3",
   "version": "3.11.4"
  }
 },
 "nbformat": 4,
 "nbformat_minor": 2
}
